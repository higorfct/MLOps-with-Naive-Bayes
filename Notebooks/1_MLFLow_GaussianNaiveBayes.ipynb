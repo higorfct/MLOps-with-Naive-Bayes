{
 "cells": [
  {
   "cell_type": "markdown",
   "metadata": {
    "id": "uDkPoJzCFTHW"
   },
   "source": [
    "#Importação de Bibliotecas"
   ]
  },
  {
   "cell_type": "code",
   "execution_count": 9,
   "metadata": {
    "id": "td8zXsccFPEZ"
   },
   "outputs": [],
   "source": [
    "# mlflow é usado para rastrear experimentos, registrar e servir modelos de machine learning\n",
    "import mlflow\n",
    "\n",
    "# mlflow.sklearn permite integração direta entre modelos do scikit-learn e o MLflow (para logar e salvar modelos)\n",
    "import mlflow.sklearn\n",
    "\n",
    "# matplotlib.pyplot é usado para criar gráficos e visualizações básicas (como curva ROC ou matriz de confusão)\n",
    "import matplotlib.pyplot as plt\n",
    "\n",
    "# GaussianNB é o classificador Naive Bayes para variáveis contínuas baseado em distribuição Gaussiana\n",
    "from sklearn.naive_bayes import GaussianNB\n",
    "\n",
    "# Métricas de avaliação para modelos de classificação (ex: acurácia, recall, f1-score, etc.)\n",
    "from sklearn.metrics import (\n",
    "    accuracy_score, recall_score, precision_score, f1_score,\n",
    "    roc_auc_score, log_loss, confusion_matrix, roc_curve\n",
    ")\n",
    "\n",
    "# Importa a função train_test_split do scikit.learn\n",
    "from sklearn.model_selection import train_test_split\n",
    "\n",
    "# Now use the function\n",
    "X_treinamento, X_teste, y_treinamento, y_teste = train_test_split(previsores, classe,\n",
    "                                        test_size=0.3, random_state=123) #Aqui, dividimos os dados entre treino (70%) e teste (30%) e aplicamos uma semente \"radom_state=123\"\n",
    "                                                                        #para garantir a reprodutibilidade do experimento\n",
    "# seaborn é uma biblioteca de visualização que facilita a criação de gráficos estatísticos mais bonitos (como heatmaps)\n",
    "import seaborn as sns\n",
    "\n",
    "# pandas é usado para leitura, manipulação e análise de dados em formato de tabelas (DataFrames)\n",
    "import pandas as pd\n",
    "\n",
    "# numpy é usado para manipulação eficiente de arrays e operações numéricas\n",
    "import numpy as np\n",
    "\n",
    "#Esses pacotes cobrem todo o pipeline: modelagem, avaliação, visualização e registro de modelo com o MLflow."
   ]
  },
  {
   "cell_type": "markdown",
   "metadata": {
    "id": "Qa6iQzK9FdSH"
   },
   "source": [
    "#Carregando e visualizando a base de dados"
   ]
  },
  {
   "cell_type": "code",
   "execution_count": 2,
   "metadata": {
    "id": "6RC27hpdFPEd",
    "outputId": "dc72d274-eb29-4498-84b8-52c026aa2b7d"
   },
   "outputs": [
    {
     "data": {
      "text/plain": [
       "(1000, 21)"
      ]
     },
     "execution_count": 2,
     "metadata": {},
     "output_type": "execute_result"
    }
   ],
   "source": [
    "credito = pd.read_csv('Credit.csv')\n",
    "credito.shape"
   ]
  },
  {
   "cell_type": "code",
   "execution_count": 3,
   "metadata": {
    "id": "EDeN3X_3FPEg",
    "outputId": "109f209f-b0e1-437c-927e-8c7e4192f2a9"
   },
   "outputs": [
    {
     "data": {
      "text/html": [
       "<div>\n",
       "<style scoped>\n",
       "    .dataframe tbody tr th:only-of-type {\n",
       "        vertical-align: middle;\n",
       "    }\n",
       "\n",
       "    .dataframe tbody tr th {\n",
       "        vertical-align: top;\n",
       "    }\n",
       "\n",
       "    .dataframe thead th {\n",
       "        text-align: right;\n",
       "    }\n",
       "</style>\n",
       "<table border=\"1\" class=\"dataframe\">\n",
       "  <thead>\n",
       "    <tr style=\"text-align: right;\">\n",
       "      <th></th>\n",
       "      <th>checking_status</th>\n",
       "      <th>duration</th>\n",
       "      <th>credit_history</th>\n",
       "      <th>purpose</th>\n",
       "      <th>credit_amount</th>\n",
       "      <th>savings_status</th>\n",
       "      <th>employment</th>\n",
       "      <th>installment_commitment</th>\n",
       "      <th>personal_status</th>\n",
       "      <th>other_parties</th>\n",
       "      <th>...</th>\n",
       "      <th>property_magnitude</th>\n",
       "      <th>age</th>\n",
       "      <th>other_payment_plans</th>\n",
       "      <th>housing</th>\n",
       "      <th>existing_credits</th>\n",
       "      <th>job</th>\n",
       "      <th>num_dependents</th>\n",
       "      <th>own_telephone</th>\n",
       "      <th>foreign_worker</th>\n",
       "      <th>class</th>\n",
       "    </tr>\n",
       "  </thead>\n",
       "  <tbody>\n",
       "    <tr>\n",
       "      <th>0</th>\n",
       "      <td>&lt;0</td>\n",
       "      <td>6</td>\n",
       "      <td>'critical/other existing credit'</td>\n",
       "      <td>radio/tv</td>\n",
       "      <td>1169</td>\n",
       "      <td>'no known savings'</td>\n",
       "      <td>&gt;=7</td>\n",
       "      <td>4</td>\n",
       "      <td>'male single'</td>\n",
       "      <td>none</td>\n",
       "      <td>...</td>\n",
       "      <td>'real estate'</td>\n",
       "      <td>67</td>\n",
       "      <td>none</td>\n",
       "      <td>own</td>\n",
       "      <td>2</td>\n",
       "      <td>skilled</td>\n",
       "      <td>1</td>\n",
       "      <td>yes</td>\n",
       "      <td>yes</td>\n",
       "      <td>good</td>\n",
       "    </tr>\n",
       "    <tr>\n",
       "      <th>1</th>\n",
       "      <td>0&lt;=X&lt;200</td>\n",
       "      <td>48</td>\n",
       "      <td>'existing paid'</td>\n",
       "      <td>radio/tv</td>\n",
       "      <td>5951</td>\n",
       "      <td>&lt;100</td>\n",
       "      <td>1&lt;=X&lt;4</td>\n",
       "      <td>2</td>\n",
       "      <td>'female div/dep/mar'</td>\n",
       "      <td>none</td>\n",
       "      <td>...</td>\n",
       "      <td>'real estate'</td>\n",
       "      <td>22</td>\n",
       "      <td>none</td>\n",
       "      <td>own</td>\n",
       "      <td>1</td>\n",
       "      <td>skilled</td>\n",
       "      <td>1</td>\n",
       "      <td>none</td>\n",
       "      <td>yes</td>\n",
       "      <td>bad</td>\n",
       "    </tr>\n",
       "    <tr>\n",
       "      <th>2</th>\n",
       "      <td>'no checking'</td>\n",
       "      <td>12</td>\n",
       "      <td>'critical/other existing credit'</td>\n",
       "      <td>education</td>\n",
       "      <td>2096</td>\n",
       "      <td>&lt;100</td>\n",
       "      <td>4&lt;=X&lt;7</td>\n",
       "      <td>2</td>\n",
       "      <td>'male single'</td>\n",
       "      <td>none</td>\n",
       "      <td>...</td>\n",
       "      <td>'real estate'</td>\n",
       "      <td>49</td>\n",
       "      <td>none</td>\n",
       "      <td>own</td>\n",
       "      <td>1</td>\n",
       "      <td>'unskilled resident'</td>\n",
       "      <td>2</td>\n",
       "      <td>none</td>\n",
       "      <td>yes</td>\n",
       "      <td>good</td>\n",
       "    </tr>\n",
       "    <tr>\n",
       "      <th>3</th>\n",
       "      <td>&lt;0</td>\n",
       "      <td>42</td>\n",
       "      <td>'existing paid'</td>\n",
       "      <td>furniture/equipment</td>\n",
       "      <td>7882</td>\n",
       "      <td>&lt;100</td>\n",
       "      <td>4&lt;=X&lt;7</td>\n",
       "      <td>2</td>\n",
       "      <td>'male single'</td>\n",
       "      <td>guarantor</td>\n",
       "      <td>...</td>\n",
       "      <td>'life insurance'</td>\n",
       "      <td>45</td>\n",
       "      <td>none</td>\n",
       "      <td>'for free'</td>\n",
       "      <td>1</td>\n",
       "      <td>skilled</td>\n",
       "      <td>2</td>\n",
       "      <td>none</td>\n",
       "      <td>yes</td>\n",
       "      <td>good</td>\n",
       "    </tr>\n",
       "    <tr>\n",
       "      <th>4</th>\n",
       "      <td>&lt;0</td>\n",
       "      <td>24</td>\n",
       "      <td>'delayed previously'</td>\n",
       "      <td>'new car'</td>\n",
       "      <td>4870</td>\n",
       "      <td>&lt;100</td>\n",
       "      <td>1&lt;=X&lt;4</td>\n",
       "      <td>3</td>\n",
       "      <td>'male single'</td>\n",
       "      <td>none</td>\n",
       "      <td>...</td>\n",
       "      <td>'no known property'</td>\n",
       "      <td>53</td>\n",
       "      <td>none</td>\n",
       "      <td>'for free'</td>\n",
       "      <td>2</td>\n",
       "      <td>skilled</td>\n",
       "      <td>2</td>\n",
       "      <td>none</td>\n",
       "      <td>yes</td>\n",
       "      <td>bad</td>\n",
       "    </tr>\n",
       "  </tbody>\n",
       "</table>\n",
       "<p>5 rows × 21 columns</p>\n",
       "</div>"
      ],
      "text/plain": [
       "  checking_status  duration                    credit_history  \\\n",
       "0              <0         6  'critical/other existing credit'   \n",
       "1        0<=X<200        48                   'existing paid'   \n",
       "2   'no checking'        12  'critical/other existing credit'   \n",
       "3              <0        42                   'existing paid'   \n",
       "4              <0        24              'delayed previously'   \n",
       "\n",
       "               purpose  credit_amount      savings_status employment  \\\n",
       "0             radio/tv           1169  'no known savings'        >=7   \n",
       "1             radio/tv           5951                <100     1<=X<4   \n",
       "2            education           2096                <100     4<=X<7   \n",
       "3  furniture/equipment           7882                <100     4<=X<7   \n",
       "4            'new car'           4870                <100     1<=X<4   \n",
       "\n",
       "   installment_commitment       personal_status other_parties  ...  \\\n",
       "0                       4         'male single'          none  ...   \n",
       "1                       2  'female div/dep/mar'          none  ...   \n",
       "2                       2         'male single'          none  ...   \n",
       "3                       2         'male single'     guarantor  ...   \n",
       "4                       3         'male single'          none  ...   \n",
       "\n",
       "    property_magnitude age  other_payment_plans     housing existing_credits  \\\n",
       "0        'real estate'  67                 none         own                2   \n",
       "1        'real estate'  22                 none         own                1   \n",
       "2        'real estate'  49                 none         own                1   \n",
       "3     'life insurance'  45                 none  'for free'                1   \n",
       "4  'no known property'  53                 none  'for free'                2   \n",
       "\n",
       "                    job num_dependents  own_telephone foreign_worker class  \n",
       "0               skilled              1            yes            yes  good  \n",
       "1               skilled              1           none            yes   bad  \n",
       "2  'unskilled resident'              2           none            yes  good  \n",
       "3               skilled              2           none            yes  good  \n",
       "4               skilled              2           none            yes   bad  \n",
       "\n",
       "[5 rows x 21 columns]"
      ]
     },
     "execution_count": 3,
     "metadata": {},
     "output_type": "execute_result"
    }
   ],
   "source": [
    "credito.head(5) #Visualiza as 5 primeiras linhas "
   ]
  },
  {
   "cell_type": "markdown",
   "metadata": {
    "id": "J5SsEA7AFnAF"
   },
   "source": [
    "#Convertendo variáveis string em variáveis numéricas"
   ]
  },
  {
   "cell_type": "code",
   "execution_count": 4,
   "metadata": {
    "id": "SxVrlQFSFPEh"
   },
   "outputs": [],
   "source": [
    "# Loop que percorre todas as colunas do DataFrame\n",
    "for col in credito.columns:  # 'col' vai assumir cada nome de coluna, um por um\n",
    "\n",
    "    # Verifica se a coluna contém dados do tipo texto (string)\n",
    "    if credito[col].dtype == 'object':  # Isso evita mexer em colunas numéricas\n",
    "\n",
    "        # Converte a coluna para o tipo categórico e atribui códigos numéricos a cada categoria\n",
    "        credito[col] = credito[col].astype('category').cat.codes\n",
    "\n",
    "        # .astype('category') -> transforma o texto em categorias (internamente)\n",
    "        # .cat.codes -> atribui um número inteiro para cada categoria\n"
   ]
  },
  {
   "cell_type": "code",
   "execution_count": 5,
   "metadata": {
    "id": "tRfJR39fFPEh",
    "outputId": "f9492b2c-fefa-44d3-9cd5-bfef2cb31af8"
   },
   "outputs": [
    {
     "data": {
      "text/html": [
       "<div>\n",
       "<style scoped>\n",
       "    .dataframe tbody tr th:only-of-type {\n",
       "        vertical-align: middle;\n",
       "    }\n",
       "\n",
       "    .dataframe tbody tr th {\n",
       "        vertical-align: top;\n",
       "    }\n",
       "\n",
       "    .dataframe thead th {\n",
       "        text-align: right;\n",
       "    }\n",
       "</style>\n",
       "<table border=\"1\" class=\"dataframe\">\n",
       "  <thead>\n",
       "    <tr style=\"text-align: right;\">\n",
       "      <th></th>\n",
       "      <th>checking_status</th>\n",
       "      <th>duration</th>\n",
       "      <th>credit_history</th>\n",
       "      <th>purpose</th>\n",
       "      <th>credit_amount</th>\n",
       "      <th>savings_status</th>\n",
       "      <th>employment</th>\n",
       "      <th>installment_commitment</th>\n",
       "      <th>personal_status</th>\n",
       "      <th>other_parties</th>\n",
       "      <th>...</th>\n",
       "      <th>property_magnitude</th>\n",
       "      <th>age</th>\n",
       "      <th>other_payment_plans</th>\n",
       "      <th>housing</th>\n",
       "      <th>existing_credits</th>\n",
       "      <th>job</th>\n",
       "      <th>num_dependents</th>\n",
       "      <th>own_telephone</th>\n",
       "      <th>foreign_worker</th>\n",
       "      <th>class</th>\n",
       "    </tr>\n",
       "  </thead>\n",
       "  <tbody>\n",
       "    <tr>\n",
       "      <th>0</th>\n",
       "      <td>2</td>\n",
       "      <td>6</td>\n",
       "      <td>1</td>\n",
       "      <td>7</td>\n",
       "      <td>1169</td>\n",
       "      <td>0</td>\n",
       "      <td>3</td>\n",
       "      <td>4</td>\n",
       "      <td>3</td>\n",
       "      <td>2</td>\n",
       "      <td>...</td>\n",
       "      <td>2</td>\n",
       "      <td>67</td>\n",
       "      <td>1</td>\n",
       "      <td>1</td>\n",
       "      <td>2</td>\n",
       "      <td>3</td>\n",
       "      <td>1</td>\n",
       "      <td>1</td>\n",
       "      <td>1</td>\n",
       "      <td>1</td>\n",
       "    </tr>\n",
       "    <tr>\n",
       "      <th>1</th>\n",
       "      <td>1</td>\n",
       "      <td>48</td>\n",
       "      <td>3</td>\n",
       "      <td>7</td>\n",
       "      <td>5951</td>\n",
       "      <td>3</td>\n",
       "      <td>0</td>\n",
       "      <td>2</td>\n",
       "      <td>0</td>\n",
       "      <td>2</td>\n",
       "      <td>...</td>\n",
       "      <td>2</td>\n",
       "      <td>22</td>\n",
       "      <td>1</td>\n",
       "      <td>1</td>\n",
       "      <td>1</td>\n",
       "      <td>3</td>\n",
       "      <td>1</td>\n",
       "      <td>0</td>\n",
       "      <td>1</td>\n",
       "      <td>0</td>\n",
       "    </tr>\n",
       "    <tr>\n",
       "      <th>2</th>\n",
       "      <td>0</td>\n",
       "      <td>12</td>\n",
       "      <td>1</td>\n",
       "      <td>4</td>\n",
       "      <td>2096</td>\n",
       "      <td>3</td>\n",
       "      <td>1</td>\n",
       "      <td>2</td>\n",
       "      <td>3</td>\n",
       "      <td>2</td>\n",
       "      <td>...</td>\n",
       "      <td>2</td>\n",
       "      <td>49</td>\n",
       "      <td>1</td>\n",
       "      <td>1</td>\n",
       "      <td>1</td>\n",
       "      <td>2</td>\n",
       "      <td>2</td>\n",
       "      <td>0</td>\n",
       "      <td>1</td>\n",
       "      <td>1</td>\n",
       "    </tr>\n",
       "    <tr>\n",
       "      <th>3</th>\n",
       "      <td>2</td>\n",
       "      <td>42</td>\n",
       "      <td>3</td>\n",
       "      <td>5</td>\n",
       "      <td>7882</td>\n",
       "      <td>3</td>\n",
       "      <td>1</td>\n",
       "      <td>2</td>\n",
       "      <td>3</td>\n",
       "      <td>1</td>\n",
       "      <td>...</td>\n",
       "      <td>0</td>\n",
       "      <td>45</td>\n",
       "      <td>1</td>\n",
       "      <td>0</td>\n",
       "      <td>1</td>\n",
       "      <td>3</td>\n",
       "      <td>2</td>\n",
       "      <td>0</td>\n",
       "      <td>1</td>\n",
       "      <td>1</td>\n",
       "    </tr>\n",
       "    <tr>\n",
       "      <th>4</th>\n",
       "      <td>2</td>\n",
       "      <td>24</td>\n",
       "      <td>2</td>\n",
       "      <td>1</td>\n",
       "      <td>4870</td>\n",
       "      <td>3</td>\n",
       "      <td>0</td>\n",
       "      <td>3</td>\n",
       "      <td>3</td>\n",
       "      <td>2</td>\n",
       "      <td>...</td>\n",
       "      <td>1</td>\n",
       "      <td>53</td>\n",
       "      <td>1</td>\n",
       "      <td>0</td>\n",
       "      <td>2</td>\n",
       "      <td>3</td>\n",
       "      <td>2</td>\n",
       "      <td>0</td>\n",
       "      <td>1</td>\n",
       "      <td>0</td>\n",
       "    </tr>\n",
       "  </tbody>\n",
       "</table>\n",
       "<p>5 rows × 21 columns</p>\n",
       "</div>"
      ],
      "text/plain": [
       "   checking_status  duration  credit_history  purpose  credit_amount  \\\n",
       "0                2         6               1        7           1169   \n",
       "1                1        48               3        7           5951   \n",
       "2                0        12               1        4           2096   \n",
       "3                2        42               3        5           7882   \n",
       "4                2        24               2        1           4870   \n",
       "\n",
       "   savings_status  employment  installment_commitment  personal_status  \\\n",
       "0               0           3                       4                3   \n",
       "1               3           0                       2                0   \n",
       "2               3           1                       2                3   \n",
       "3               3           1                       2                3   \n",
       "4               3           0                       3                3   \n",
       "\n",
       "   other_parties  ...  property_magnitude  age  other_payment_plans  housing  \\\n",
       "0              2  ...                   2   67                    1        1   \n",
       "1              2  ...                   2   22                    1        1   \n",
       "2              2  ...                   2   49                    1        1   \n",
       "3              1  ...                   0   45                    1        0   \n",
       "4              2  ...                   1   53                    1        0   \n",
       "\n",
       "   existing_credits  job  num_dependents  own_telephone  foreign_worker  class  \n",
       "0                 2    3               1              1               1      1  \n",
       "1                 1    3               1              0               1      0  \n",
       "2                 1    2               2              0               1      1  \n",
       "3                 1    3               2              0               1      1  \n",
       "4                 2    3               2              0               1      0  \n",
       "\n",
       "[5 rows x 21 columns]"
      ]
     },
     "execution_count": 5,
     "metadata": {},
     "output_type": "execute_result"
    }
   ],
   "source": [
    "credito.head()"
   ]
  },
  {
   "cell_type": "markdown",
   "metadata": {
    "id": "KBrdPq_TGdwt"
   },
   "source": [
    "#Definindo os previsores e a variável target"
   ]
  },
  {
   "cell_type": "code",
   "execution_count": 6,
   "metadata": {
    "id": "tFoY-0SjFPEi"
   },
   "outputs": [],
   "source": [
    "previsores = credito.iloc[:, 0:20].values\n",
    "# seleciona todas as linhas (:) e as colunas de 0 até 19 (0:20, o 20 é exclusivo)\n",
    "# .values transforma em um array NumPy, que é o formato esperado para muitos modelos ML\n",
    "# 'previsores' são as variáveis independentes (features) que o modelo vai usar para prever\n",
    "\n",
    "classe = credito.iloc[:, 20].values\n",
    "# seleciona todas as linhas (:) da coluna de índice 20 (a 21ª coluna)\n",
    "# essa coluna é a variável dependente (target, label) que o modelo deve aprender a prever\n",
    "# também transformada em array NumPy\n"
   ]
  },
  {
   "cell_type": "code",
   "execution_count": 7,
   "metadata": {
    "id": "EggWBaaqFPEi",
    "outputId": "7ce2725a-6ed4-406d-9f96-1793abc661bf"
   },
   "outputs": [
    {
     "data": {
      "text/plain": [
       "array([[ 2,  6,  1, ...,  1,  1,  1],\n",
       "       [ 1, 48,  3, ...,  1,  0,  1],\n",
       "       [ 0, 12,  1, ...,  2,  0,  1],\n",
       "       ...,\n",
       "       [ 0, 12,  3, ...,  1,  0,  1],\n",
       "       [ 2, 45,  3, ...,  1,  1,  1],\n",
       "       [ 1, 45,  1, ...,  1,  0,  1]])"
      ]
     },
     "execution_count": 7,
     "metadata": {},
     "output_type": "execute_result"
    }
   ],
   "source": [
    "previsores #exibir os previsores em formato array Numpy"
   ]
  },
  {
   "cell_type": "markdown",
   "metadata": {
    "id": "QShCw6vnG0T9"
   },
   "source": [
    "#Divisão dos dados entre treino e teste"
   ]
  },
  {
   "cell_type": "code",
   "execution_count": 10,
   "metadata": {
    "id": "aAvSqRheFPEi"
   },
   "outputs": [],
   "source": [
    "X_treinamento, X_teste, y_treinamento, y_teste = train_test_split(previsores,classe,\n",
    "                                        test_size=0.3,random_state=123) #Aqui, dividimos os dados entre treino (70%) e teste (30%) e aplicamos uma semente \"radom_state=123\"\n",
    "                                                                        #para garantir a reprodutibilidade do experimento"
   ]
  },
  {
   "cell_type": "markdown",
   "metadata": {
    "id": "j4zs9ho5JFAM"
   },
   "source": [
    "#Implementação de um experimento Naive Bayes com hiperparâmetros"
   ]
  },
  {
   "cell_type": "code",
   "execution_count": 11,
   "metadata": {
    "id": "N43QnrsIFPEj",
    "outputId": "7da9a24a-2e63-440d-d2f5-19c8ed4df42b"
   },
   "outputs": [
    {
     "name": "stderr",
     "output_type": "stream",
     "text": [
      "2025/07/01 18:23:08 INFO mlflow.tracking.fluent: Experiment with name 'nbexperimento' does not exist. Creating a new experiment.\n",
      "2025/07/01 18:23:08 WARNING mlflow.utils.git_utils: Failed to import Git (the Git executable is probably not on your PATH), so Git SHA is not available. Error: Failed to initialize: Bad git executable.\n",
      "The git executable must be specified in one of the following ways:\n",
      "    - be included in your $PATH\n",
      "    - be set via $GIT_PYTHON_GIT_EXECUTABLE\n",
      "    - explicitly set via git.refresh(<full-path-to-git-executable>)\n",
      "\n",
      "All git commands will error until this is rectified.\n",
      "\n",
      "This initial message can be silenced or aggravated in the future by setting the\n",
      "$GIT_PYTHON_REFRESH environment variable. Use one of the following values:\n",
      "    - quiet|q|silence|s|silent|none|n|0: for no message or exception\n",
      "    - warn|w|warning|log|l|1: for a warning message (logging level CRITICAL, displayed by default)\n",
      "    - error|e|exception|raise|r|2: for a raised exception\n",
      "\n",
      "Example:\n",
      "    export GIT_PYTHON_REFRESH=quiet\n",
      "\n",
      "2025/07/01 18:23:25 WARNING mlflow.models.model: Model logged without a signature and input example. Please set `input_example` parameter when logging the model to auto infer the model signature.\n"
     ]
    },
    {
     "name": "stdout",
     "output_type": "stream",
     "text": [
      "Run finalizada com var_smoothing=1e-09. ID: e16fafc09c00418f9ec859ca3b1f4151\n"
     ]
    },
    {
     "name": "stderr",
     "output_type": "stream",
     "text": [
      "2025/07/01 18:23:31 WARNING mlflow.models.model: Model logged without a signature and input example. Please set `input_example` parameter when logging the model to auto infer the model signature.\n"
     ]
    },
    {
     "name": "stdout",
     "output_type": "stream",
     "text": [
      "Run finalizada com var_smoothing=1e-08. ID: 5c90561ce2944c348a582bb16bbe9a81\n"
     ]
    },
    {
     "name": "stderr",
     "output_type": "stream",
     "text": [
      "2025/07/01 18:23:38 WARNING mlflow.models.model: Model logged without a signature and input example. Please set `input_example` parameter when logging the model to auto infer the model signature.\n"
     ]
    },
    {
     "name": "stdout",
     "output_type": "stream",
     "text": [
      "Run finalizada com var_smoothing=1e-07. ID: a8d928b7d3f2459ca316ff151a6679b9\n"
     ]
    },
    {
     "name": "stderr",
     "output_type": "stream",
     "text": [
      "2025/07/01 18:23:44 WARNING mlflow.models.model: Model logged without a signature and input example. Please set `input_example` parameter when logging the model to auto infer the model signature.\n"
     ]
    },
    {
     "name": "stdout",
     "output_type": "stream",
     "text": [
      "Run finalizada com var_smoothing=1e-06. ID: 10f7dc5efc21451dbd0d13c10936ca21\n"
     ]
    },
    {
     "name": "stderr",
     "output_type": "stream",
     "text": [
      "2025/07/01 18:23:51 WARNING mlflow.models.model: Model logged without a signature and input example. Please set `input_example` parameter when logging the model to auto infer the model signature.\n"
     ]
    },
    {
     "name": "stdout",
     "output_type": "stream",
     "text": [
      "Run finalizada com var_smoothing=1e-05. ID: 8e2374efc95b4009bac73d8118d5c7c0\n"
     ]
    }
   ],
   "source": [
    "mlflow.set_experiment(\"nbexperimento\") #Configura o experimento e dá um nome a ele\n",
    "\n",
    "# Lista com diferentes valores de smoothing para testar o impacto desse hiperparâmetro no modelo Naive Bayes\n",
    "valores_smoothing = [1e-9, 1e-8, 1e-7, 1e-6, 1e-5]\n",
    "\n",
    "for smoothing in valores_smoothing:\n",
    "    with mlflow.start_run(): #Inicia o experimento com um laço\n",
    "        # Treinamento\n",
    "        naive_bayes = GaussianNB(var_smoothing=smoothing)\n",
    "        naive_bayes.fit(X_treinamento, y_treinamento)\n",
    "        previsoes = naive_bayes.predict(X_teste)\n",
    "        probs = naive_bayes.predict_proba(X_teste)[:, 1]  # Probabilidades para ROC\n",
    "\n",
    "        # Calculando as Métricas\n",
    "        acuracia = accuracy_score(y_teste, previsoes)\n",
    "        recall = recall_score(y_teste, previsoes)\n",
    "        precision = precision_score(y_teste, previsoes)\n",
    "        f1 = f1_score(y_teste, previsoes)\n",
    "        auc = roc_auc_score(y_teste, previsoes)\n",
    "        log = log_loss(y_teste, previsoes)\n",
    "\n",
    "        # Registrando hiperparâmetro e métricas\n",
    "        mlflow.log_param(\"var_smoothing\", smoothing)\n",
    "        mlflow.log_metric(\"acuracia\", acuracia)\n",
    "        mlflow.log_metric(\"recall\", recall)\n",
    "        mlflow.log_metric(\"precision\", precision)\n",
    "        mlflow.log_metric(\"f1\", f1)\n",
    "        mlflow.log_metric(\"auc\", auc)\n",
    "        mlflow.log_metric(\"log\", log)\n",
    "\n",
    "        # Calculando e Plotando a Matriz de Confusão\n",
    "        cm = confusion_matrix(y_teste, previsoes)\n",
    "        plt.figure(figsize=(6, 4))\n",
    "        sns.heatmap(cm, annot=True, fmt='d', cmap='Blues')\n",
    "        plt.title(f\"Confusion Matrix - smoothing={smoothing}\")\n",
    "        plt.xlabel(\"Previsto\")\n",
    "        plt.ylabel(\"Real\")\n",
    "        conf_file = f\"confusion_{smoothing}.png\"\n",
    "        plt.savefig(conf_file)\n",
    "        mlflow.log_artifact(conf_file)\n",
    "        plt.close()\n",
    "\n",
    "        # Curva ROC\n",
    "        fpr, tpr, _ = roc_curve(y_teste, probs)\n",
    "        plt.figure(figsize=(6, 4))\n",
    "        plt.plot(fpr, tpr, label=f\"AUC = {auc:.2f}\")\n",
    "        plt.plot([0, 1], [0, 1], linestyle=\"--\", color=\"gray\")\n",
    "        plt.xlabel(\"FPR (Falsos Positivos)\")\n",
    "        plt.ylabel(\"TPR (Verdadeiros Positivos)\")\n",
    "        plt.title(f\"ROC Curve - smoothing={smoothing}\")\n",
    "        plt.legend()\n",
    "        roc_file = f\"roc_{smoothing}.png\"\n",
    "        plt.savefig(roc_file)\n",
    "        mlflow.log_artifact(roc_file)\n",
    "        plt.close()\n",
    "\n",
    "        # Registrando o modelo\n",
    "        mlflow.sklearn.log_model(naive_bayes, name=\"ModeloNB\")\n",
    "\n",
    "        # Print do ID da execução do modelo\n",
    "        print(f\"Run finalizada com var_smoothing={smoothing}. ID:\", mlflow.active_run().info.run_id)\n",
    "\n",
    "    mlflow.end_run() #Finaliza o experimento"
   ]
  },
  {
   "cell_type": "code",
   "execution_count": null,
   "metadata": {
    "id": "jc2hpBLyFPEj"
   },
   "outputs": [],
   "source": [
    "#Para ver os modelos recém-treinados no Mlflow, vá até o prompt do anaconda e digite:\n",
    "\n",
    "#(base) C:\\Users\\Seu_Usuario>mlflow ui\n",
    "\n",
    "#Após isso, vai aparecer o seguinte resultado: \n",
    "# INFO:waitress:Serving on http://127.0.0.1:5000\n",
    "\n",
    "#A partir disso, você vai precisar clicar no link http usando ctrl + enter para acessar a página do Mlflow com os experimentos já rodados e versionados."
   ]
  }
 ],
 "metadata": {
  "colab": {
   "provenance": []
  },
  "kernelspec": {
   "display_name": "Python [conda env:base] *",
   "language": "python",
   "name": "conda-base-py"
  },
  "language_info": {
   "codemirror_mode": {
    "name": "ipython",
    "version": 3
   },
   "file_extension": ".py",
   "mimetype": "text/x-python",
   "name": "python",
   "nbconvert_exporter": "python",
   "pygments_lexer": "ipython3",
   "version": "3.13.5"
  }
 },
 "nbformat": 4,
 "nbformat_minor": 4
}
